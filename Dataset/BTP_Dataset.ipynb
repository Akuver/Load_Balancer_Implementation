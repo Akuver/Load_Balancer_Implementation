{
  "nbformat": 4,
  "nbformat_minor": 0,
  "metadata": {
    "colab": {
      "provenance": [],
      "collapsed_sections": []
    },
    "kernelspec": {
      "name": "python3",
      "display_name": "Python 3"
    },
    "language_info": {
      "name": "python"
    }
  },
  "cells": [
    {
      "cell_type": "code",
      "source": [
        "import numpy as np \n",
        "import pandas as pd\n",
        "import random\n"
      ],
      "metadata": {
        "id": "sUq-NfaaFr0w"
      },
      "execution_count": null,
      "outputs": []
    },
    {
      "cell_type": "markdown",
      "source": [
        "# Creating the task dataset"
      ],
      "metadata": {
        "id": "n0jhJ1Bu__rd"
      }
    },
    {
      "cell_type": "code",
      "source": [
        "CPU=[]\n",
        "MEMORY=[]\n",
        "# n is the number of tasks that you want to want to generate\n",
        "n = int(input())\n",
        "#steps is the step length between task length to preserve uniformity.\n",
        "steps=int(input())\n",
        "print(\"Enter the step length for memory\")\n",
        "memory_steps=int(input())\n",
        "for i in range(n):\n",
        "  CPU.append(random.randrange(100,1200,steps))\n",
        "  MEMORY.append(random.randrange(1000,64000,memory_steps))"
      ],
      "metadata": {
        "colab": {
          "base_uri": "https://localhost:8080/"
        },
        "id": "FkxYahPg7R8j",
        "outputId": "5f7d7ddf-9ee5-45ad-c46d-a4b079d483e5"
      },
      "execution_count": null,
      "outputs": [
        {
          "name": "stdout",
          "output_type": "stream",
          "text": [
            "10\n",
            "50\n",
            "Enter the step length for memory\n",
            "1000\n"
          ]
        }
      ]
    },
    {
      "cell_type": "code",
      "execution_count": null,
      "metadata": {
        "id": "qheQFWpQ-w8R",
        "colab": {
          "base_uri": "https://localhost:8080/"
        },
        "outputId": "4b63b4a1-b34a-431c-a711-c3409f85ee54"
      },
      "outputs": [
        {
          "output_type": "execute_result",
          "data": {
            "text/plain": [
              "([1100, 300, 1100, 700, 600, 300, 950, 450, 750, 1100],\n",
              " [51000, 62000, 3000, 24000, 3000, 25000, 16000, 2000, 53000, 36000])"
            ]
          },
          "metadata": {},
          "execution_count": 11
        }
      ],
      "source": [
        "CPU,MEMORY"
      ]
    },
    {
      "cell_type": "code",
      "source": [
        "task_dict = {'CPU': CPU, 'Memory': MEMORY}  \n",
        "tasks = pd.DataFrame(task_dict)  "
      ],
      "metadata": {
        "id": "_rkk3ySILwoh"
      },
      "execution_count": null,
      "outputs": []
    },
    {
      "cell_type": "markdown",
      "source": [
        "# Creating the datasets for the Virtual Machines and Hosts"
      ],
      "metadata": {
        "id": "_dfOMxGrANdT"
      }
    },
    {
      "cell_type": "code",
      "source": [
        "CPU=[]\n",
        "MEMORY=[]\n",
        "# n is the number of tasks that you want to want to generate\n",
        "n = int(input())\n",
        "#steps is the step length between task length to preserve uniformity.\n",
        "steps=int(input())\n",
        "print(\"Enter the step length for memory\")\n",
        "memory_steps=int(input())\n",
        "for i in range(n):\n",
        "  CPU.append(random.randrange(100,1200,steps))\n",
        "  MEMORY.append(random.randrange(1000,64000,memory_steps))"
      ],
      "metadata": {
        "id": "75oilHp9ALcV"
      },
      "execution_count": null,
      "outputs": []
    },
    {
      "cell_type": "code",
      "source": [
        "hosts_dict={'CPU':CPU,'Memory':MEMORY}\n",
        "host_dataset=pd.DataFrame(hosts_dict)"
      ],
      "metadata": {
        "id": "c2efCyyL-4Fg"
      },
      "execution_count": null,
      "outputs": []
    },
    {
      "cell_type": "code",
      "source": [],
      "metadata": {
        "id": "mXfhTgoEBlqC"
      },
      "execution_count": null,
      "outputs": []
    },
    {
      "cell_type": "code",
      "source": [],
      "metadata": {
        "id": "D2EnQ1HpH91a"
      },
      "execution_count": null,
      "outputs": []
    },
    {
      "cell_type": "code",
      "source": [],
      "metadata": {
        "id": "9unbSYrxIHO_"
      },
      "execution_count": null,
      "outputs": []
    }
  ]
}